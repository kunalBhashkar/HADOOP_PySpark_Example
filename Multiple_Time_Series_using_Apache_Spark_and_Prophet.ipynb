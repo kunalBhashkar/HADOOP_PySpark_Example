{
 "cells": [
  {
   "cell_type": "code",
   "execution_count": 1,
   "metadata": {
    "id": "-aF9dJFVItfM"
   },
   "outputs": [],
   "source": [
    "## Set Python - Spark environment.\n",
    "import os\n",
    "import sys\n",
    "#Setting the path for Spark\n",
    "# os.environ['SPARK_HOME'] = \"/home/Kunal/Downloads/spark-2.4.7-bin-hadoop2.7\"\n",
    "os.environ['PYSPARK_SUBMIT_ARGS'] = '--packages org.apache.spark:spark-sql-kafka-0-10_2.11:2.4.7,org.apache.spark:spark-streaming-kafka-0-10_2.11:2.4.7 pyspark-shell'\n",
    "os.environ['PYSPARK_PYTHON'] = sys.executable\n",
    "os.environ['PYSPARK_DRIVER_PYTHON'] = sys.executable\n",
    "# !pip install pyarrow==0.14"
   ]
  },
  {
   "cell_type": "code",
   "execution_count": 2,
   "metadata": {
    "id": "NUe7BW37S6VA"
   },
   "outputs": [],
   "source": [
    "# !pip install fbprophet"
   ]
  },
  {
   "cell_type": "code",
   "execution_count": 3,
   "metadata": {
    "id": "CY5G7SE9PLEB"
   },
   "outputs": [
    {
     "name": "stderr",
     "output_type": "stream",
     "text": [
      "Importing plotly failed. Interactive plots will not work.\n"
     ]
    }
   ],
   "source": [
    "import matplotlib as mpl\n",
    "import matplotlib.pyplot as plt\n",
    "import pandas as pd\n",
    "\n",
    "from fbprophet import Prophet\n",
    "\n",
    "mpl.rcParams['figure.figsize'] = (10, 8)\n",
    "mpl.rcParams['axes.grid'] = False"
   ]
  },
  {
   "cell_type": "code",
   "execution_count": 4,
   "metadata": {},
   "outputs": [],
   "source": [
    "## Create SparkContext, SparkSession\n",
    "from pyspark.sql import *\n",
    "import pyspark\n",
    "from pyspark.conf import SparkConf\n",
    "from pyspark import SparkContext\n",
    "from pyspark.sql import SparkSession\n",
    "from pyspark.sql.types import *\n",
    "# from os.path import join, abspath\n",
    "# warehouse_location = '/user/hive/warehouse'"
   ]
  },
  {
   "cell_type": "code",
   "execution_count": 5,
   "metadata": {
    "id": "qE2sxBUnXPIP"
   },
   "outputs": [],
   "source": [
    "# #setting configuration\n",
    "# conf = SparkConf().setAppName(\"Python_Spark_PHD_Complete\").setMaster('local')\n",
    "# sc = SparkContext(conf=conf)\n",
    "# # spark = SparkSession(sc)\n",
    "# spark = SparkSession \\\n",
    "#             .builder \\\n",
    "#             .appName(\"Python Spark Multiple Time Series\") \\\n",
    "#             .config(\"spark.sql.catalogImplementation=hive\").enableHiveSupport() \\\n",
    "#             .getOrCreate()\n",
    "#setting configuration\n",
    "conf = SparkConf().setAppName(\"Python_Spark_PHD_Complete\").setMaster('yarn-client').set(\"spark.driver.memory\",\"5g\")\n",
    "sc = SparkContext(conf=conf)\n",
    "# sc=SparkContext.getOrCreate(conf=create_spark_conf().setMaster(\"local[4]\").set(\"spark.driver.memory\",\"8g\").set(\"spark.executor.memory\", '8g').set('spark.executor.cores', 4))\n",
    "sc.setLogLevel(\"ERROR\")\n",
    "# spark = SparkSession(sc)\n",
    "spark = SparkSession \\\n",
    "            .builder \\\n",
    "            .appName(\"Python Spark SQL basic example\") \\\n",
    "            .config(\"spark.sql.catalogImplementation=hive\").enableHiveSupport() \\\n",
    "            .getOrCreate()"
   ]
  },
  {
   "cell_type": "code",
   "execution_count": 6,
   "metadata": {
    "id": "4dmzbVV5rrkJ"
   },
   "outputs": [],
   "source": [
    "#Reading household dataset from hadoop cluster\n",
    "sales_weekly_df=spark.read.csv(\"hdfs://localhost:9000//user/kunal/weekly_sales_data.csv\",header=True)"
   ]
  },
  {
   "cell_type": "code",
   "execution_count": 7,
   "metadata": {
    "colab": {
     "base_uri": "https://localhost:8080/",
     "height": 416
    },
    "id": "vwpMqvTdPsEx",
    "outputId": "210d76a0-defa-44a2-b5dc-974f4f684019"
   },
   "outputs": [
    {
     "name": "stdout",
     "output_type": "stream",
     "text": [
      "+---------+--------+-----------+\n",
      "|     date|store_id|      sales|\n",
      "+---------+--------+-----------+\n",
      "| 1/6/2019|      25|736657.2267|\n",
      "| 1/6/2019|      26|     233711|\n",
      "| 1/6/2019|      28|692156.3794|\n",
      "| 1/6/2019|      29|   213706.8|\n",
      "| 1/6/2019|      30|     266455|\n",
      "| 1/6/2019|      31|837342.8156|\n",
      "| 1/6/2019|      35|   201013.6|\n",
      "| 1/6/2019|      38|  242397.03|\n",
      "| 1/6/2019|      41|   244189.4|\n",
      "| 1/6/2019|      44|   164553.5|\n",
      "|1/13/2019|      25|696457.1717|\n",
      "|1/13/2019|      26|  261136.45|\n",
      "|1/13/2019|      28|  787359.03|\n",
      "|1/13/2019|      29|     279218|\n",
      "|1/13/2019|      30|  252519.59|\n",
      "|1/13/2019|      31|836604.5717|\n",
      "|1/13/2019|      35| 277550.185|\n",
      "|1/13/2019|      38| 215895.275|\n",
      "|1/13/2019|      41|   231992.5|\n",
      "|1/13/2019|      44|     134188|\n",
      "+---------+--------+-----------+\n",
      "only showing top 20 rows\n",
      "\n"
     ]
    }
   ],
   "source": [
    "#show rows\n",
    "sales_weekly_df.show()"
   ]
  },
  {
   "cell_type": "code",
   "execution_count": 8,
   "metadata": {},
   "outputs": [],
   "source": [
    "#Convert Date column into time stamp format\n",
    "from datetime import datetime\n",
    "from pyspark.sql.functions import col, udf\n",
    "from pyspark.sql.types import DateType,TimestampType\n",
    "func =  udf (lambda x: datetime.strptime(x, '%m/%d/%Y'), TimestampType())\n",
    "spark_df = sales_weekly_df.withColumn('Date', func(col('date')))"
   ]
  },
  {
   "cell_type": "code",
   "execution_count": 9,
   "metadata": {},
   "outputs": [
    {
     "name": "stdout",
     "output_type": "stream",
     "text": [
      "+-------------------+--------+-----------+\n",
      "|               Date|store_id|      sales|\n",
      "+-------------------+--------+-----------+\n",
      "|2019-01-06 00:00:00|      25|736657.2267|\n",
      "|2019-01-06 00:00:00|      26|     233711|\n",
      "|2019-01-06 00:00:00|      28|692156.3794|\n",
      "|2019-01-06 00:00:00|      29|   213706.8|\n",
      "|2019-01-06 00:00:00|      30|     266455|\n",
      "|2019-01-06 00:00:00|      31|837342.8156|\n",
      "|2019-01-06 00:00:00|      35|   201013.6|\n",
      "|2019-01-06 00:00:00|      38|  242397.03|\n",
      "|2019-01-06 00:00:00|      41|   244189.4|\n",
      "|2019-01-06 00:00:00|      44|   164553.5|\n",
      "|2019-01-13 00:00:00|      25|696457.1717|\n",
      "|2019-01-13 00:00:00|      26|  261136.45|\n",
      "|2019-01-13 00:00:00|      28|  787359.03|\n",
      "|2019-01-13 00:00:00|      29|     279218|\n",
      "|2019-01-13 00:00:00|      30|  252519.59|\n",
      "|2019-01-13 00:00:00|      31|836604.5717|\n",
      "|2019-01-13 00:00:00|      35| 277550.185|\n",
      "|2019-01-13 00:00:00|      38| 215895.275|\n",
      "|2019-01-13 00:00:00|      41|   231992.5|\n",
      "|2019-01-13 00:00:00|      44|     134188|\n",
      "+-------------------+--------+-----------+\n",
      "only showing top 20 rows\n",
      "\n"
     ]
    }
   ],
   "source": [
    "spark_df.show()"
   ]
  },
  {
   "cell_type": "code",
   "execution_count": 10,
   "metadata": {
    "colab": {
     "base_uri": "https://localhost:8080/",
     "height": 106
    },
    "id": "If4w2bE7P9Ij",
    "outputId": "a5db4483-b637-423b-c0bd-43f8c877f396"
   },
   "outputs": [
    {
     "name": "stdout",
     "output_type": "stream",
     "text": [
      "root\n",
      " |-- Date: timestamp (nullable = true)\n",
      " |-- store_id: string (nullable = true)\n",
      " |-- sales: string (nullable = true)\n",
      "\n"
     ]
    }
   ],
   "source": [
    "sdf=spark_df.select(\"Date\",\"store_id\",\"sales\")\n",
    "sdf.printSchema()"
   ]
  },
  {
   "cell_type": "code",
   "execution_count": 11,
   "metadata": {},
   "outputs": [],
   "source": [
    "sdf=sdf.withColumn('sales',sdf['sales'].cast('double'))"
   ]
  },
  {
   "cell_type": "code",
   "execution_count": 12,
   "metadata": {},
   "outputs": [],
   "source": [
    "sdf=sdf.withColumn('store_id',sdf['store_id'].cast('double'))"
   ]
  },
  {
   "cell_type": "code",
   "execution_count": 13,
   "metadata": {},
   "outputs": [
    {
     "name": "stdout",
     "output_type": "stream",
     "text": [
      "root\n",
      " |-- Date: timestamp (nullable = true)\n",
      " |-- store_id: double (nullable = true)\n",
      " |-- sales: double (nullable = true)\n",
      "\n"
     ]
    }
   ],
   "source": [
    "sdf.printSchema()"
   ]
  },
  {
   "cell_type": "code",
   "execution_count": 14,
   "metadata": {
    "colab": {
     "base_uri": "https://localhost:8080/",
     "height": 35
    },
    "id": "p6GuZ8PyP9GP",
    "outputId": "4f6bdfc5-0fc7-4186-d0b5-d73b061efaf6"
   },
   "outputs": [
    {
     "data": {
      "text/plain": [
       "500"
      ]
     },
     "execution_count": 14,
     "metadata": {},
     "output_type": "execute_result"
    }
   ],
   "source": [
    "sdf.count()"
   ]
  },
  {
   "cell_type": "code",
   "execution_count": 15,
   "metadata": {
    "colab": {
     "base_uri": "https://localhost:8080/",
     "height": 285
    },
    "id": "Bk4MebeQP9DM",
    "outputId": "a1c22b56-8edb-410a-ef71-534580661764"
   },
   "outputs": [
    {
     "name": "stdout",
     "output_type": "stream",
     "text": [
      "+--------+---------------+\n",
      "|store_id|count(store_id)|\n",
      "+--------+---------------+\n",
      "|    29.0|             50|\n",
      "|    44.0|             50|\n",
      "|    35.0|             50|\n",
      "|    25.0|             50|\n",
      "|    41.0|             50|\n",
      "|    31.0|             50|\n",
      "|    28.0|             50|\n",
      "|    38.0|             50|\n",
      "|    30.0|             50|\n",
      "|    26.0|             50|\n",
      "+--------+---------------+\n",
      "\n"
     ]
    }
   ],
   "source": [
    "sdf.select(['store_id']).groupBy('store_id').agg({'store_id':'count'}).show()"
   ]
  },
  {
   "cell_type": "code",
   "execution_count": 16,
   "metadata": {
    "id": "LkO5c9JHP9BM"
   },
   "outputs": [],
   "source": [
    "sdf.createOrReplaceTempView(\"sales\")"
   ]
  },
  {
   "cell_type": "code",
   "execution_count": 17,
   "metadata": {
    "colab": {
     "base_uri": "https://localhost:8080/",
     "height": 285
    },
    "id": "vf5pea8aP8-l",
    "outputId": "7651bdf9-dc49-43b8-b29e-8f1d4970a8b6"
   },
   "outputs": [
    {
     "name": "stdout",
     "output_type": "stream",
     "text": [
      "+--------+--------+\n",
      "|store_id|count(1)|\n",
      "+--------+--------+\n",
      "|    25.0|      50|\n",
      "|    26.0|      50|\n",
      "|    28.0|      50|\n",
      "|    29.0|      50|\n",
      "|    30.0|      50|\n",
      "|    31.0|      50|\n",
      "|    35.0|      50|\n",
      "|    38.0|      50|\n",
      "|    41.0|      50|\n",
      "|    44.0|      50|\n",
      "+--------+--------+\n",
      "\n"
     ]
    }
   ],
   "source": [
    "spark.sql(\"select store_id, count(*) from sales group by store_id order by store_id\").show()"
   ]
  },
  {
   "cell_type": "code",
   "execution_count": 18,
   "metadata": {
    "colab": {
     "base_uri": "https://localhost:8080/",
     "height": 481
    },
    "id": "0Yz4zI0qP84H",
    "outputId": "97b23751-eeed-4087-dc23-46be1cfaabc6"
   },
   "outputs": [
    {
     "name": "stdout",
     "output_type": "stream",
     "text": [
      "+--------+-------------------+-----------+\n",
      "|store_id|                 ds|          y|\n",
      "+--------+-------------------+-----------+\n",
      "|    25.0|2019-01-06 00:00:00|736657.2267|\n",
      "|    25.0|2019-01-13 00:00:00|696457.1717|\n",
      "|    25.0|2019-01-20 00:00:00| 996876.875|\n",
      "|    25.0|2019-01-27 00:00:00| 1029737.05|\n",
      "|    25.0|2019-02-03 00:00:00|1072873.705|\n",
      "|    25.0|2019-02-10 00:00:00|880462.4681|\n",
      "|    25.0|2019-02-17 00:00:00| 1088756.78|\n",
      "|    25.0|2019-02-24 00:00:00|1266928.313|\n",
      "|    25.0|2019-03-03 00:00:00|907510.1217|\n",
      "|    25.0|2019-03-10 00:00:00|747920.9824|\n",
      "|    25.0|2019-03-17 00:00:00|904750.3158|\n",
      "|    25.0|2019-03-24 00:00:00|1069857.589|\n",
      "|    25.0|2019-03-31 00:00:00|1195574.314|\n",
      "|    25.0|2019-04-07 00:00:00|834911.3333|\n",
      "|    25.0|2019-04-14 00:00:00|788777.4167|\n",
      "|    25.0|2019-04-21 00:00:00|849603.4333|\n",
      "|    25.0|2019-04-28 00:00:00| 965521.165|\n",
      "|    25.0|2019-05-05 00:00:00|1045632.688|\n",
      "|    25.0|2019-05-12 00:00:00| 587768.245|\n",
      "|    25.0|2019-05-19 00:00:00|806767.5946|\n",
      "+--------+-------------------+-----------+\n",
      "only showing top 20 rows\n",
      "\n"
     ]
    }
   ],
   "source": [
    "spark.sql('SELECT store_id, date as ds, sum(sales) as y FROM sales GROUP BY store_id, ds ORDER BY store_id, ds').show()"
   ]
  },
  {
   "cell_type": "code",
   "execution_count": 19,
   "metadata": {
    "colab": {
     "base_uri": "https://localhost:8080/",
     "height": 35
    },
    "id": "4CkhDN9CPGU3",
    "outputId": "1599e736-e0f2-4c93-948f-e766c297184a"
   },
   "outputs": [
    {
     "data": {
      "text/plain": [
       "1"
      ]
     },
     "execution_count": 19,
     "metadata": {},
     "output_type": "execute_result"
    }
   ],
   "source": [
    "sdf.rdd.getNumPartitions()"
   ]
  },
  {
   "cell_type": "code",
   "execution_count": 20,
   "metadata": {},
   "outputs": [],
   "source": [
    "sql='SELECT store_id, date as ds, sum(sales) as y FROM sales GROUP BY store_id, ds ORDER BY store_id, ds'"
   ]
  },
  {
   "cell_type": "code",
   "execution_count": 21,
   "metadata": {
    "id": "DskWUcVlP81s"
   },
   "outputs": [],
   "source": [
    "store_part = (spark.sql( sql ).repartition(spark.sparkContext.defaultParallelism, ['store_id'])).cache()"
   ]
  },
  {
   "cell_type": "code",
   "execution_count": 22,
   "metadata": {
    "colab": {
     "base_uri": "https://localhost:8080/",
     "height": 35
    },
    "id": "r-mWsPutuxS6",
    "outputId": "db5006a0-7868-49a7-9226-23fda2b1fc09"
   },
   "outputs": [
    {
     "data": {
      "text/plain": [
       "DataFrame[store_id: double, ds: timestamp, y: double]"
      ]
     },
     "execution_count": 22,
     "metadata": {},
     "output_type": "execute_result"
    }
   ],
   "source": [
    "store_part"
   ]
  },
  {
   "cell_type": "code",
   "execution_count": 23,
   "metadata": {
    "colab": {
     "base_uri": "https://localhost:8080/",
     "height": 231
    },
    "id": "9BHeebRdNkap",
    "outputId": "43e21c71-f434-4db5-995b-1b2d99aaa307"
   },
   "outputs": [
    {
     "name": "stdout",
     "output_type": "stream",
     "text": [
      "== Physical Plan ==\n",
      "InMemoryTableScan [store_id#55, ds#126, y#127]\n",
      "   +- InMemoryRelation [store_id#55, ds#126, y#127], StorageLevel(disk, memory, deserialized, 1 replicas)\n",
      "         +- Exchange hashpartitioning(store_id#55, 2)\n",
      "            +- *(4) Sort [store_id#55 ASC NULLS FIRST, ds#126 ASC NULLS FIRST], true, 0\n",
      "               +- Exchange rangepartitioning(store_id#55 ASC NULLS FIRST, ds#126 ASC NULLS FIRST, 200)\n",
      "                  +- *(3) HashAggregate(keys=[store_id#55, date#30], functions=[sum(sales#51)])\n",
      "                     +- Exchange hashpartitioning(store_id#55, date#30, 200)\n",
      "                        +- *(2) HashAggregate(keys=[store_id#55, date#30], functions=[partial_sum(sales#51)])\n",
      "                           +- *(2) Project [pythonUDF0#134 AS Date#30, cast(store_id#11 as double) AS store_id#55, cast(sales#12 as double) AS sales#51]\n",
      "                              +- BatchEvalPython [<lambda>(date#10)], [date#10, store_id#11, sales#12, pythonUDF0#134]\n",
      "                                 +- *(1) FileScan csv [date#10,store_id#11,sales#12] Batched: false, Format: CSV, Location: InMemoryFileIndex[hdfs://localhost:9000/user/kunal/weekly_sales_data.csv], PartitionFilters: [], PushedFilters: [], ReadSchema: struct<date:string,store_id:string,sales:string>\n"
     ]
    }
   ],
   "source": [
    "store_part.explain()"
   ]
  },
  {
   "cell_type": "code",
   "execution_count": 24,
   "metadata": {
    "id": "6E7MgluCuwrL"
   },
   "outputs": [],
   "source": [
    "result_schema =StructType([\n",
    "  StructField('ds',TimestampType()),\n",
    "  StructField('store_id',IntegerType()),\n",
    "  StructField('y',DoubleType()),\n",
    "  StructField('yhat',DoubleType()),\n",
    "  StructField('yhat_upper',DoubleType()),\n",
    "  StructField('yhat_lower',DoubleType())\n",
    "  ])"
   ]
  },
  {
   "cell_type": "code",
   "execution_count": 25,
   "metadata": {
    "id": "4ry6ExeHuwav"
   },
   "outputs": [],
   "source": [
    "from pyspark.sql.functions import pandas_udf, PandasUDFType\n",
    "\n",
    "@pandas_udf( result_schema, PandasUDFType.GROUPED_MAP )\n",
    "def forecast_sales( store_pd ):\n",
    "\n",
    "  model = Prophet(interval_width=0.95,seasonality_mode = 'multiplicative', weekly_seasonality=True, yearly_seasonality=True)\n",
    "\n",
    "  model.fit( store_pd )\n",
    "\n",
    "  future_pd = model.make_future_dataframe(\n",
    "    periods=5, \n",
    "    freq='w'\n",
    "    )\n",
    "  \n",
    "  forecast_pd = model.predict( future_pd )  \n",
    "  \n",
    "  f_pd = forecast_pd[ ['ds','yhat', 'yhat_upper', 'yhat_lower'] ].set_index('ds')\n",
    "  \n",
    "  st_pd = store_pd[['ds','store_id','y']].set_index('ds')\n",
    "  \n",
    "  results_pd = f_pd.join( st_pd, how='left' )\n",
    "  results_pd.reset_index(level=0, inplace=True)\n",
    "  \n",
    "  results_pd['store_id'] = store_pd['store_id'].iloc[0]\n",
    "\n",
    "  return results_pd[ ['ds', 'store_id','y', 'yhat', 'yhat_upper', 'yhat_lower'] ]  "
   ]
  },
  {
   "cell_type": "code",
   "execution_count": 26,
   "metadata": {
    "colab": {
     "base_uri": "https://localhost:8080/",
     "height": 108
    },
    "id": "cpie_8DUPdIT",
    "outputId": "28d78538-8ef7-4486-a693-90fc1cda328d"
   },
   "outputs": [],
   "source": [
    "from pyspark.sql.functions import current_date\n",
    "\n",
    "results = (\n",
    "  store_part\n",
    "    .groupBy('store_id')\n",
    "    .apply(forecast_sales)\n",
    "    .withColumn('training_date', current_date() )\n",
    "    )"
   ]
  },
  {
   "cell_type": "code",
   "execution_count": 27,
   "metadata": {
    "colab": {
     "base_uri": "https://localhost:8080/",
     "height": 35
    },
    "id": "6pAQ0nYnS_Sz",
    "outputId": "2ec6be2f-f7ee-491a-a087-84824a5dcb42"
   },
   "outputs": [
    {
     "data": {
      "text/plain": [
       "DataFrame[ds: timestamp, store_id: int, y: double, yhat: double, yhat_upper: double, yhat_lower: double, training_date: date]"
      ]
     },
     "execution_count": 27,
     "metadata": {},
     "output_type": "execute_result"
    }
   ],
   "source": [
    "results.cache()"
   ]
  },
  {
   "cell_type": "code",
   "execution_count": 28,
   "metadata": {
    "colab": {
     "base_uri": "https://localhost:8080/",
     "height": 481
    },
    "id": "S974tPXcPc-v",
    "outputId": "46a958b0-e846-4fc2-c7cb-60fadd0bd043"
   },
   "outputs": [
    {
     "name": "stdout",
     "output_type": "stream",
     "text": [
      "root\n",
      " |-- ds: timestamp (nullable = true)\n",
      " |-- store_id: integer (nullable = true)\n",
      " |-- y: double (nullable = true)\n",
      " |-- yhat: double (nullable = true)\n",
      " |-- yhat_upper: double (nullable = true)\n",
      " |-- yhat_lower: double (nullable = true)\n",
      " |-- training_date: date (nullable = false)\n",
      "\n"
     ]
    }
   ],
   "source": [
    "results.printSchema()"
   ]
  },
  {
   "cell_type": "code",
   "execution_count": 29,
   "metadata": {
    "colab": {
     "base_uri": "https://localhost:8080/",
     "height": 340
    },
    "id": "pm9V9lRFM_Ef",
    "outputId": "4f318945-6b7a-4529-fe8b-bbc84dbb2638"
   },
   "outputs": [
    {
     "name": "stdout",
     "output_type": "stream",
     "text": [
      "== Physical Plan ==\n",
      "InMemoryTableScan [ds#173, store_id#174, y#175, yhat#176, yhat_upper#177, yhat_lower#178, training_date#185]\n",
      "   +- InMemoryRelation [ds#173, store_id#174, y#175, yhat#176, yhat_upper#177, yhat_lower#178, training_date#185], StorageLevel(disk, memory, deserialized, 1 replicas)\n",
      "         +- *(2) Project [ds#173, store_id#174, y#175, yhat#176, yhat_upper#177, yhat_lower#178, 18826 AS training_date#185]\n",
      "            +- FlatMapGroupsInPandas [store_id#55], forecast_sales(store_id#55, ds#126, y#127), [ds#173, store_id#174, y#175, yhat#176, yhat_upper#177, yhat_lower#178]\n",
      "               +- *(1) Sort [store_id#55 ASC NULLS FIRST], false, 0\n",
      "                  +- InMemoryTableScan [store_id#55, store_id#55, ds#126, y#127]\n",
      "                        +- InMemoryRelation [store_id#55, ds#126, y#127], StorageLevel(disk, memory, deserialized, 1 replicas)\n",
      "                              +- Exchange hashpartitioning(store_id#55, 2)\n",
      "                                 +- *(4) Sort [store_id#55 ASC NULLS FIRST, ds#126 ASC NULLS FIRST], true, 0\n",
      "                                    +- Exchange rangepartitioning(store_id#55 ASC NULLS FIRST, ds#126 ASC NULLS FIRST, 200)\n",
      "                                       +- *(3) HashAggregate(keys=[store_id#55, date#30], functions=[sum(sales#51)])\n",
      "                                          +- Exchange hashpartitioning(store_id#55, date#30, 200)\n",
      "                                             +- *(2) HashAggregate(keys=[store_id#55, date#30], functions=[partial_sum(sales#51)])\n",
      "                                                +- *(2) Project [pythonUDF0#134 AS Date#30, cast(store_id#11 as double) AS store_id#55, cast(sales#12 as double) AS sales#51]\n",
      "                                                   +- BatchEvalPython [<lambda>(date#10)], [date#10, store_id#11, sales#12, pythonUDF0#134]\n",
      "                                                      +- *(1) FileScan csv [date#10,store_id#11,sales#12] Batched: false, Format: CSV, Location: InMemoryFileIndex[hdfs://localhost:9000/user/kunal/weekly_sales_data.csv], PartitionFilters: [], PushedFilters: [], ReadSchema: struct<date:string,store_id:string,sales:string>\n"
     ]
    }
   ],
   "source": [
    "results.explain()"
   ]
  },
  {
   "cell_type": "code",
   "execution_count": 30,
   "metadata": {
    "colab": {
     "base_uri": "https://localhost:8080/",
     "height": 35
    },
    "id": "sXL4kmexSH0D",
    "outputId": "135e076d-a6f0-41ca-b9b3-07ccf407d5d7"
   },
   "outputs": [
    {
     "data": {
      "text/plain": [
       "DataFrame[ds: timestamp, store_id: int, y: double, yhat: double, yhat_upper: double, yhat_lower: double, training_date: date]"
      ]
     },
     "execution_count": 30,
     "metadata": {},
     "output_type": "execute_result"
    }
   ],
   "source": [
    "results.coalesce(1)"
   ]
  },
  {
   "cell_type": "code",
   "execution_count": 31,
   "metadata": {
    "colab": {
     "base_uri": "https://localhost:8080/",
     "height": 35
    },
    "id": "9nj260kgSMa7",
    "outputId": "f449b09f-3fc1-414d-c812-c3d0ed60c86e"
   },
   "outputs": [],
   "source": [
    "# results.count()\n",
    "results=results.filter(\"store_id is not null\")"
   ]
  },
  {
   "cell_type": "code",
   "execution_count": 32,
   "metadata": {},
   "outputs": [
    {
     "name": "stdout",
     "output_type": "stream",
     "text": [
      "root\n",
      " |-- ds: timestamp (nullable = true)\n",
      " |-- store_id: integer (nullable = true)\n",
      " |-- y: double (nullable = true)\n",
      " |-- yhat: double (nullable = true)\n",
      " |-- yhat_upper: double (nullable = true)\n",
      " |-- yhat_lower: double (nullable = true)\n",
      " |-- training_date: date (nullable = false)\n",
      "\n"
     ]
    }
   ],
   "source": [
    "results.printSchema()"
   ]
  },
  {
   "cell_type": "code",
   "execution_count": 33,
   "metadata": {},
   "outputs": [],
   "source": [
    "df_results=results.withColumn(\"training_date\",results[\"training_date\"].cast(TimestampType()))"
   ]
  },
  {
   "cell_type": "code",
   "execution_count": 34,
   "metadata": {},
   "outputs": [
    {
     "name": "stdout",
     "output_type": "stream",
     "text": [
      "root\n",
      " |-- ds: timestamp (nullable = true)\n",
      " |-- store_id: integer (nullable = true)\n",
      " |-- y: double (nullable = true)\n",
      " |-- yhat: double (nullable = true)\n",
      " |-- yhat_upper: double (nullable = true)\n",
      " |-- yhat_lower: double (nullable = true)\n",
      " |-- training_date: timestamp (nullable = false)\n",
      "\n"
     ]
    }
   ],
   "source": [
    "df_results.printSchema()"
   ]
  },
  {
   "cell_type": "code",
   "execution_count": 35,
   "metadata": {},
   "outputs": [
    {
     "name": "stdout",
     "output_type": "stream",
     "text": [
      "+-------------------+--------+-----------+------------------+------------------+------------------+-------------------+\n",
      "|                 ds|store_id|          y|              yhat|        yhat_upper|        yhat_lower|      training_date|\n",
      "+-------------------+--------+-----------+------------------+------------------+------------------+-------------------+\n",
      "|2019-01-06 00:00:00|      25|736657.2267| 712575.0694034342| 951145.1714429691|481264.82516048197|2021-07-18 00:00:00|\n",
      "|2019-01-13 00:00:00|      25|696457.1717| 743751.7568928569| 974123.3020284316| 504054.6607367446|2021-07-18 00:00:00|\n",
      "|2019-01-20 00:00:00|      25| 996876.875| 972909.8778010788|1215014.4092873293|  759465.238607354|2021-07-18 00:00:00|\n",
      "|2019-01-27 00:00:00|      25| 1029737.05|1034447.5557582717| 1264969.198907835| 811822.7152067492|2021-07-18 00:00:00|\n",
      "|2019-02-03 00:00:00|      25|1072873.705| 986365.7266742919|1208138.3833476666| 754330.1094141544|2021-07-18 00:00:00|\n",
      "|2019-02-10 00:00:00|      25|880462.4681|1016291.0609313075| 1236954.596423364| 797825.5795935837|2021-07-18 00:00:00|\n",
      "|2019-02-17 00:00:00|      25| 1088756.78|1108793.2648313895|1342140.1629919412| 876096.1986851295|2021-07-18 00:00:00|\n",
      "|2019-02-24 00:00:00|      25|1266928.313|1099825.7781849583|1325639.8058518483| 868227.4548047854|2021-07-18 00:00:00|\n",
      "|2019-03-03 00:00:00|      25|907510.1217| 954930.7385013087|1179312.7625411935|  726515.444990953|2021-07-18 00:00:00|\n",
      "|2019-03-10 00:00:00|      25|747920.9824| 840307.5564991487|1085170.6143633244| 613741.8753766676|2021-07-18 00:00:00|\n",
      "|2019-03-17 00:00:00|      25|904750.3158| 895698.5219441098|1108553.5172415026| 673369.3201938033|2021-07-18 00:00:00|\n",
      "|2019-03-24 00:00:00|      25|1069857.589|1040022.5385686738|1271414.8577645312| 807519.3727823317|2021-07-18 00:00:00|\n",
      "|2019-03-31 00:00:00|      25|1195574.314| 1078329.032876978| 1311366.214073445| 836995.0597982827|2021-07-18 00:00:00|\n",
      "|2019-04-07 00:00:00|      25|834911.3333| 957531.8584494952|1194887.9738064846| 724560.6112828285|2021-07-18 00:00:00|\n",
      "|2019-04-14 00:00:00|      25|788777.4167| 825594.4716836138|1062225.5730295067| 593122.5128832641|2021-07-18 00:00:00|\n",
      "|2019-04-21 00:00:00|      25|849603.4333| 826255.1077112334| 1058406.666442855| 603494.1254724397|2021-07-18 00:00:00|\n",
      "|2019-04-28 00:00:00|      25| 965521.165| 913980.6218878273|1145845.2922387242|  683978.871117027|2021-07-18 00:00:00|\n",
      "|2019-05-05 00:00:00|      25|1045632.688| 931383.5223415782|1154647.2980189256| 686954.9618851955|2021-07-18 00:00:00|\n",
      "|2019-05-12 00:00:00|      25| 587768.245| 831326.9849932519|1057515.2945626732| 597392.3478105812|2021-07-18 00:00:00|\n",
      "|2019-05-19 00:00:00|      25|806767.5946| 740232.6751845297| 982486.2132086994|511095.03032678046|2021-07-18 00:00:00|\n",
      "+-------------------+--------+-----------+------------------+------------------+------------------+-------------------+\n",
      "only showing top 20 rows\n",
      "\n"
     ]
    }
   ],
   "source": [
    "df_results.show()"
   ]
  },
  {
   "cell_type": "code",
   "execution_count": 36,
   "metadata": {
    "id": "G4Zj9bWYPnhD"
   },
   "outputs": [],
   "source": [
    "df_results.createOrReplaceTempView('forecasted')"
   ]
  },
  {
   "cell_type": "code",
   "execution_count": 37,
   "metadata": {
    "colab": {
     "base_uri": "https://localhost:8080/",
     "height": 285
    },
    "id": "GLQys5g8CUzz",
    "outputId": "b37ade0d-85fe-4b61-9263-8306fef65d30"
   },
   "outputs": [
    {
     "name": "stdout",
     "output_type": "stream",
     "text": [
      "+--------+--------+\n",
      "|store_id|count(1)|\n",
      "+--------+--------+\n",
      "|      31|      55|\n",
      "|      28|      55|\n",
      "|      26|      55|\n",
      "|      44|      55|\n",
      "|      41|      55|\n",
      "|      35|      55|\n",
      "|      38|      55|\n",
      "|      25|      55|\n",
      "|      29|      55|\n",
      "|      30|      55|\n",
      "+--------+--------+\n",
      "\n"
     ]
    }
   ],
   "source": [
    "spark.sql(\"select store_id, count(*) from forecasted group by store_id\").show()"
   ]
  },
  {
   "cell_type": "code",
   "execution_count": 38,
   "metadata": {
    "id": "dhCPlXG_PczA"
   },
   "outputs": [],
   "source": [
    "final_df = df_results.toPandas()"
   ]
  },
  {
   "cell_type": "code",
   "execution_count": 39,
   "metadata": {
    "colab": {
     "base_uri": "https://localhost:8080/",
     "height": 416
    },
    "id": "LPX69_FBKBeh",
    "outputId": "2f997c6a-acd1-4f35-e789-aad2c50ea9f7"
   },
   "outputs": [
    {
     "data": {
      "text/html": [
       "<div>\n",
       "<style scoped>\n",
       "    .dataframe tbody tr th:only-of-type {\n",
       "        vertical-align: middle;\n",
       "    }\n",
       "\n",
       "    .dataframe tbody tr th {\n",
       "        vertical-align: top;\n",
       "    }\n",
       "\n",
       "    .dataframe thead th {\n",
       "        text-align: right;\n",
       "    }\n",
       "</style>\n",
       "<table border=\"1\" class=\"dataframe\">\n",
       "  <thead>\n",
       "    <tr style=\"text-align: right;\">\n",
       "      <th></th>\n",
       "      <th>ds</th>\n",
       "      <th>store_id</th>\n",
       "      <th>y</th>\n",
       "      <th>yhat</th>\n",
       "      <th>yhat_upper</th>\n",
       "      <th>yhat_lower</th>\n",
       "      <th>training_date</th>\n",
       "    </tr>\n",
       "  </thead>\n",
       "  <tbody>\n",
       "    <tr>\n",
       "      <th>0</th>\n",
       "      <td>2019-01-06</td>\n",
       "      <td>25</td>\n",
       "      <td>7.366572e+05</td>\n",
       "      <td>7.125751e+05</td>\n",
       "      <td>9.511452e+05</td>\n",
       "      <td>481264.825160</td>\n",
       "      <td>2021-07-18</td>\n",
       "    </tr>\n",
       "    <tr>\n",
       "      <th>1</th>\n",
       "      <td>2019-01-13</td>\n",
       "      <td>25</td>\n",
       "      <td>6.964572e+05</td>\n",
       "      <td>7.437518e+05</td>\n",
       "      <td>9.741233e+05</td>\n",
       "      <td>504054.660737</td>\n",
       "      <td>2021-07-18</td>\n",
       "    </tr>\n",
       "    <tr>\n",
       "      <th>2</th>\n",
       "      <td>2019-01-20</td>\n",
       "      <td>25</td>\n",
       "      <td>9.968769e+05</td>\n",
       "      <td>9.729099e+05</td>\n",
       "      <td>1.215014e+06</td>\n",
       "      <td>759465.238607</td>\n",
       "      <td>2021-07-18</td>\n",
       "    </tr>\n",
       "    <tr>\n",
       "      <th>3</th>\n",
       "      <td>2019-01-27</td>\n",
       "      <td>25</td>\n",
       "      <td>1.029737e+06</td>\n",
       "      <td>1.034448e+06</td>\n",
       "      <td>1.264969e+06</td>\n",
       "      <td>811822.715207</td>\n",
       "      <td>2021-07-18</td>\n",
       "    </tr>\n",
       "    <tr>\n",
       "      <th>4</th>\n",
       "      <td>2019-02-03</td>\n",
       "      <td>25</td>\n",
       "      <td>1.072874e+06</td>\n",
       "      <td>9.863657e+05</td>\n",
       "      <td>1.208138e+06</td>\n",
       "      <td>754330.109414</td>\n",
       "      <td>2021-07-18</td>\n",
       "    </tr>\n",
       "    <tr>\n",
       "      <th>...</th>\n",
       "      <td>...</td>\n",
       "      <td>...</td>\n",
       "      <td>...</td>\n",
       "      <td>...</td>\n",
       "      <td>...</td>\n",
       "      <td>...</td>\n",
       "      <td>...</td>\n",
       "    </tr>\n",
       "    <tr>\n",
       "      <th>545</th>\n",
       "      <td>2019-12-22</td>\n",
       "      <td>44</td>\n",
       "      <td>NaN</td>\n",
       "      <td>6.265474e+04</td>\n",
       "      <td>1.241497e+05</td>\n",
       "      <td>-1930.359205</td>\n",
       "      <td>2021-07-18</td>\n",
       "    </tr>\n",
       "    <tr>\n",
       "      <th>546</th>\n",
       "      <td>2019-12-29</td>\n",
       "      <td>44</td>\n",
       "      <td>NaN</td>\n",
       "      <td>2.657442e+04</td>\n",
       "      <td>9.034891e+04</td>\n",
       "      <td>-34688.853747</td>\n",
       "      <td>2021-07-18</td>\n",
       "    </tr>\n",
       "    <tr>\n",
       "      <th>547</th>\n",
       "      <td>2020-01-05</td>\n",
       "      <td>44</td>\n",
       "      <td>NaN</td>\n",
       "      <td>8.801264e+03</td>\n",
       "      <td>7.213202e+04</td>\n",
       "      <td>-53411.941180</td>\n",
       "      <td>2021-07-18</td>\n",
       "    </tr>\n",
       "    <tr>\n",
       "      <th>548</th>\n",
       "      <td>2020-01-12</td>\n",
       "      <td>44</td>\n",
       "      <td>NaN</td>\n",
       "      <td>4.665900e+03</td>\n",
       "      <td>6.847400e+04</td>\n",
       "      <td>-56652.550310</td>\n",
       "      <td>2021-07-18</td>\n",
       "    </tr>\n",
       "    <tr>\n",
       "      <th>549</th>\n",
       "      <td>2020-01-19</td>\n",
       "      <td>44</td>\n",
       "      <td>NaN</td>\n",
       "      <td>2.708830e+03</td>\n",
       "      <td>6.266114e+04</td>\n",
       "      <td>-60661.669656</td>\n",
       "      <td>2021-07-18</td>\n",
       "    </tr>\n",
       "  </tbody>\n",
       "</table>\n",
       "<p>550 rows × 7 columns</p>\n",
       "</div>"
      ],
      "text/plain": [
       "            ds  store_id             y          yhat    yhat_upper  \\\n",
       "0   2019-01-06        25  7.366572e+05  7.125751e+05  9.511452e+05   \n",
       "1   2019-01-13        25  6.964572e+05  7.437518e+05  9.741233e+05   \n",
       "2   2019-01-20        25  9.968769e+05  9.729099e+05  1.215014e+06   \n",
       "3   2019-01-27        25  1.029737e+06  1.034448e+06  1.264969e+06   \n",
       "4   2019-02-03        25  1.072874e+06  9.863657e+05  1.208138e+06   \n",
       "..         ...       ...           ...           ...           ...   \n",
       "545 2019-12-22        44           NaN  6.265474e+04  1.241497e+05   \n",
       "546 2019-12-29        44           NaN  2.657442e+04  9.034891e+04   \n",
       "547 2020-01-05        44           NaN  8.801264e+03  7.213202e+04   \n",
       "548 2020-01-12        44           NaN  4.665900e+03  6.847400e+04   \n",
       "549 2020-01-19        44           NaN  2.708830e+03  6.266114e+04   \n",
       "\n",
       "        yhat_lower training_date  \n",
       "0    481264.825160    2021-07-18  \n",
       "1    504054.660737    2021-07-18  \n",
       "2    759465.238607    2021-07-18  \n",
       "3    811822.715207    2021-07-18  \n",
       "4    754330.109414    2021-07-18  \n",
       "..             ...           ...  \n",
       "545   -1930.359205    2021-07-18  \n",
       "546  -34688.853747    2021-07-18  \n",
       "547  -53411.941180    2021-07-18  \n",
       "548  -56652.550310    2021-07-18  \n",
       "549  -60661.669656    2021-07-18  \n",
       "\n",
       "[550 rows x 7 columns]"
      ]
     },
     "execution_count": 39,
     "metadata": {},
     "output_type": "execute_result"
    }
   ],
   "source": [
    "final_df"
   ]
  },
  {
   "cell_type": "code",
   "execution_count": 40,
   "metadata": {
    "id": "jtc2_p12KBbO"
   },
   "outputs": [],
   "source": [
    "final_df=final_df.set_index('ds')"
   ]
  },
  {
   "cell_type": "code",
   "execution_count": 41,
   "metadata": {
    "colab": {
     "base_uri": "https://localhost:8080/",
     "height": 526
    },
    "id": "7CKgGuh_KBYX",
    "outputId": "f860bd31-7dd6-4d2c-c5d9-76b98f0a96ad"
   },
   "outputs": [
    {
     "data": {
      "text/plain": [
       "<matplotlib.axes._subplots.AxesSubplot at 0x7f78503b9fd0>"
      ]
     },
     "execution_count": 41,
     "metadata": {},
     "output_type": "execute_result"
    },
    {
     "data": {
      "image/png": "[encoded data removed]",
      "text/plain": [
       "<Figure size 432x288 with 1 Axes>"
      ]
     },
     "metadata": {
      "needs_background": "light"
     },
     "output_type": "display_data"
    }
   ],
   "source": [
    "final_df.query('store_id==44')[['y','yhat']].plot()"
   ]
  },
  {
   "cell_type": "code",
   "execution_count": 42,
   "metadata": {
    "colab": {
     "base_uri": "https://localhost:8080/",
     "height": 526
    },
    "id": "r11ePm2TvAfz",
    "outputId": "00b65550-4106-4290-f4b2-247dbf691cf5"
   },
   "outputs": [
    {
     "data": {
      "text/plain": [
       "<matplotlib.axes._subplots.AxesSubplot at 0x7f784f270128>"
      ]
     },
     "execution_count": 42,
     "metadata": {},
     "output_type": "execute_result"
    },
    {
     "data": {
      "image/png": "[encoded data removed]",
      "text/plain": [
       "<Figure size 432x288 with 1 Axes>"
      ]
     },
     "metadata": {
      "needs_background": "light"
     },
     "output_type": "display_data"
    }
   ],
   "source": [
    "final_df.query('store_id==26')[['y','yhat']].plot()"
   ]
  },
  {
   "cell_type": "code",
   "execution_count": 43,
   "metadata": {
    "colab": {
     "base_uri": "https://localhost:8080/",
     "height": 536
    },
    "id": "wnvd3OdXKBU1",
    "outputId": "ad34e844-9517-4e45-a56f-1bbb129d32c9"
   },
   "outputs": [
    {
     "data": {
      "text/plain": [
       "<matplotlib.axes._subplots.AxesSubplot at 0x7f784f14eba8>"
      ]
     },
     "execution_count": 43,
     "metadata": {},
     "output_type": "execute_result"
    },
    {
     "data": {
      "image/png": "[encoded data removed]",
      "text/plain": [
       "<Figure size 432x288 with 1 Axes>"
      ]
     },
     "metadata": {
      "needs_background": "light"
     },
     "output_type": "display_data"
    }
   ],
   "source": [
    "final_df.query('store_id==31')[['y','yhat']].plot()"
   ]
  },
  {
   "cell_type": "code",
   "execution_count": 44,
   "metadata": {
    "id": "J3hfLt3ZP8yv"
   },
   "outputs": [],
   "source": [
    "#END"
   ]
  }
 ],
 "metadata": {
  "colab": {
   "authorship_tag": "ABX9TyP5E/vB/lfYMLc+0oqcRxB1",
   "collapsed_sections": [],
   "include_colab_link": true,
   "name": "Multiple Time Series using Apache Spark and Prophet.ipynb",
   "provenance": []
  },
  "kernelspec": {
   "display_name": "Python 3",
   "language": "python",
   "name": "python3"
  },
  "language_info": {
   "codemirror_mode": {
    "name": "ipython",
    "version": 3
   },
   "file_extension": ".py",
   "mimetype": "text/x-python",
   "name": "python",
   "nbconvert_exporter": "python",
   "pygments_lexer": "ipython3",
   "version": "3.6.12"
  }
 },
 "nbformat": 4,
 "nbformat_minor": 1
}
